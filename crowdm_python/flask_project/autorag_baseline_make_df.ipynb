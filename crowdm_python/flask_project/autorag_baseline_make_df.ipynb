{
 "cells": [
  {
   "cell_type": "raw",
   "metadata": {},
   "source": [
    "    #%% md\n",
    "\n",
    " * 1. ClassName:\n",
    " * 2. FileName : autorag_baseline_make_df\n",
    " * 3. Package  : common.util\n",
    " * 4. Comment  : raw 문서를 vector db로 만드는 과정\n",
    " * 5. 작성자   : boyeong, bonjae\n",
    " * 6. 작성일   : 2024. 07. 26.\n"
   ]
  },
  {
   "cell_type": "code",
   "execution_count": null,
   "metadata": {
    "id": "j1LtemK1ONH0"
   },
   "outputs": [],
   "source": [
    "\n",
    "\n",
    "import pandas as pd\n",
    "import numpy as np\n",
    "import os\n",
    "\n",
    "import openai\n",
    "import json\n",
    "\n",
    "import psycopg2\n",
    "import warnings\n",
    "from openai import OpenAI\n",
    "import supabase\n",
    "from supabase import create_client, Client\n",
    "from sklearn.metrics.pairwise import cosine_similarity\n",
    "#from openai.embeddings_utils import cosine_similarity\n",
    "warnings.filterwarnings(\"ignore\", category=DeprecationWarning)"
   ]
  },
  {
   "cell_type": "code",
   "execution_count": null,
   "metadata": {
    "id": "aYBdEsSvneI4"
   },
   "outputs": [],
   "source": [
    "import pandas as pd\n",
    "from openai import OpenAI\n",
    "client = OpenAI(api_key='')"
   ]
  },
  {
   "cell_type": "markdown",
   "metadata": {
    "id": "sxf3xPsmPUsR"
   },
   "source": [
    "- make qa"
   ]
  },
  {
   "cell_type": "markdown",
   "metadata": {
    "id": "MJHKPreCokab"
   },
   "source": [
    "- q+a 합치기"
   ]
  },
  {
   "cell_type": "code",
   "execution_count": null,
   "metadata": {
    "id": "VNNw0IstnPqB"
   },
   "outputs": [],
   "source": [
    "df = pd.read_parquet('./qanew2.parquet') #parquet path\n",
    "qalist=[]\n",
    "\n",
    "for row in range(len(df)):\n",
    "    t=str(df['query'][row])+str(df['generation_gt'][row])\n",
    "    qalist.append(t)\n",
    "\n",
    "    df2=pd.DataFrame(qalist, columns=[\"qa\"])\n",
    "\n",
    "df2.to_csv('./qadata.csv')"
   ]
  },
  {
   "cell_type": "code",
   "execution_count": null,
   "metadata": {
    "colab": {
     "base_uri": "https://localhost:8080/"
    },
    "collapsed": true,
    "id": "3b4tS07VY-eE",
    "outputId": "1582fa85-3d17-4688-f762-0c6f27239491"
   },
   "outputs": [],
   "source": [
    "for i in df2['qa']:\n",
    "    print(i)"
   ]
  },
  {
   "cell_type": "markdown",
   "metadata": {
    "id": "cAIzSc2gm93I"
   },
   "source": []
  },
  {
   "cell_type": "markdown",
   "metadata": {
    "id": "N8xU5dWDWbRe"
   },
   "source": [
    "- 영어"
   ]
  },
  {
   "cell_type": "code",
   "execution_count": null,
   "metadata": {
    "colab": {
     "base_uri": "https://localhost:8080/",
     "height": 315
    },
    "collapsed": true,
    "id": "EDeavHRdiFSw",
    "outputId": "02581786-8e49-40c6-f781-cf5c489fa230"
   },
   "outputs": [],
   "source": [
    "from googletrans import Translator\n",
    "translator = Translator()\n"
   ]
  },
  {
   "cell_type": "code",
   "execution_count": null,
   "metadata": {
    "colab": {
     "base_uri": "https://localhost:8080/",
     "height": 164
    },
    "collapsed": true,
    "id": "L1jZ4eMsWa7B",
    "outputId": "ededa99d-828e-4d8f-a720-8eff17c8a9f8"
   },
   "outputs": [],
   "source": [
    "for i in range(len(df2)):\n",
    "    df2['qa'][i]=translator.translate(df2['qa'][i], src='en', dest='ko').text"
   ]
  },
  {
   "cell_type": "markdown",
   "metadata": {
    "id": "EX5Q92RiGc0U"
   },
   "source": [
    "### ."
   ]
  },
  {
   "cell_type": "markdown",
   "metadata": {
    "id": "1mjFfJA-oGai"
   },
   "source": [
    "- pdf를 읽어와서 각 문장을 df로 저장"
   ]
  },
  {
   "cell_type": "code",
   "execution_count": null,
   "metadata": {
    "colab": {
     "base_uri": "https://localhost:8080/"
    },
    "id": "DIm7jImLoXrM",
    "outputId": "63711674-f969-46cc-99ac-4dfc1f6d9121"
   },
   "outputs": [],
   "source": [
    "import fitz  # PyMuPDF\n",
    "import pandas as pd\n",
    "\n",
    "def extract_text_from_pdf(pdf_file):\n",
    "\n",
    "    # Open the provided PDF file\n",
    "    document = fitz.open(pdf_file)\n",
    "\n",
    "    text_data = []\n",
    "\n",
    "    # Iterate through each page in the PDF\n",
    "    for page_num in range(len(document)):\n",
    "        page = document.load_page(page_num)\n",
    "        text = page.get_text()\n",
    "\n",
    "        # Split text into sentences\n",
    "        sentences = text.split('\\n\\n')  # Assuming sentences are separated by newlines\n",
    "\n",
    "        for sentence in sentences:\n",
    "            if sentence.strip():  # Check if the sentence is not empty\n",
    "                text_data.append({'qa': sentence.strip()})\n",
    "\n",
    "    # Create a DataFrame from the collected text data\n",
    "    df = pd.DataFrame(text_data)\n",
    "\n",
    "    return df\n",
    "\n",
    "# Example usage:\n",
    "pdf_file = '한국화재보험협회 웹진 2.pdf'  # Replace with your PDF file path\n",
    "df = extract_text_from_pdf(pdf_file)\n",
    "\n",
    "# Print the DataFrame\n",
    "print(df)\n",
    "df2=df.copy()"
   ]
  },
  {
   "cell_type": "markdown",
   "metadata": {
    "id": "LnU5lQVMol-r"
   },
   "source": [
    "- embedding"
   ]
  },
  {
   "cell_type": "code",
   "execution_count": null,
   "metadata": {
    "id": "pv7ohfutn0_A"
   },
   "outputs": [],
   "source": [
    "\n",
    "\n",
    "def get_embedding(text, model=\"text-embedding-3-small\"):\n",
    "   text = text = str(text).replace(\"\\n\", \" \")\n",
    "   return client.embeddings.create(input = [text], model=model).data[0].embedding\n",
    "\n",
    "df2['embedding'] = df2['qa'].apply(lambda x: get_embedding(x, model='text-embedding-3-small'))\n",
    "df2.to_csv('./embed.csv', index=False)"
   ]
  },
  {
   "cell_type": "markdown",
   "metadata": {
    "id": "fslbg5iqonuq"
   },
   "source": [
    "- supabase에 업로드"
   ]
  },
  {
   "cell_type": "code",
   "execution_count": null,
   "metadata": {
    "id": "0BU4_ASFOdTV"
   },
   "outputs": [],
   "source": [
    "# Supabase URL과 API 키 설정\n",
    "supabase_url = \"\"\n",
    "supabase_key = \"\"\n",
    "# Supabase 클라이언트 생성\n",
    "supabase: Client = create_client(supabase_url, supabase_key)"
   ]
  },
  {
   "cell_type": "code",
   "execution_count": null,
   "metadata": {
    "colab": {
     "base_uri": "https://localhost:8080/"
    },
    "collapsed": true,
    "id": "L4Ox609DobUF",
    "outputId": "a9058781-a211-4864-c9e2-954a4fe2d15c"
   },
   "outputs": [],
   "source": [
    "db_params = {\n",
    "    'dbname': 'postgres',\n",
    "    'user': '',\n",
    "    'password': '',\n",
    "    'host': '',\n",
    "    'port': ''\n",
    "}\n",
    "\n",
    "# Create table using psycopg2\n",
    "conn = psycopg2.connect(**db_params)\n",
    "cur = conn.cursor()\n",
    "cur.execute(\"\"\"\n",
    "    CREATE TABLE IF NOT EXISTS embeddings_0714 (\n",
    "        id SERIAL PRIMARY KEY,\n",
    "        text TEXT NOT NULL,\n",
    "        embedding FLOAT8[] NOT NULL\n",
    "    );\n",
    "\"\"\")\n",
    "conn.commit()\n",
    "cur.close()\n",
    "conn.close()\n",
    "\n",
    "# Insert embeddings into the Supabase table\n",
    "for _, row in df2.iterrows():\n",
    "    response = supabase.table(\"embeddings_0714\").insert({\n",
    "        \"text\": str(row['qa']),\n",
    "        \"embedding\": row['embedding']  # Directly use the list\n",
    "    }).execute()\n",
    "    print(response)"
   ]
  },
  {
   "cell_type": "markdown",
   "metadata": {
    "id": "N4nnpLW6WHgN"
   },
   "source": [
    "- 영어"
   ]
  },
  {
   "cell_type": "code",
   "execution_count": null,
   "metadata": {
    "id": "B3_6KXnmWMOc"
   },
   "outputs": [],
   "source": [
    "import PyPDF2\n",
    "import nltk\n",
    "nltk.download('punkt')\n",
    "from nltk.tokenize import sent_tokenize\n",
    "import pandas as pd\n",
    "import re"
   ]
  },
  {
   "cell_type": "code",
   "execution_count": null,
   "metadata": {
    "id": "ytdhrgDhWI27"
   },
   "outputs": [],
   "source": [
    "translator.translate(p, src='en', dest='ko').text for p in paragraphs"
   ]
  },
  {
   "cell_type": "code",
   "execution_count": null,
   "metadata": {
    "id": "R3z7BG_3WI77"
   },
   "outputs": [],
   "source": []
  }
 ],
 "metadata": {
  "colab": {
   "provenance": []
  },
  "kernelspec": {
   "display_name": "Python 3",
   "name": "python3"
  },
  "language_info": {
   "codemirror_mode": {
    "name": "ipython",
    "version": 3
   },
   "file_extension": ".py",
   "mimetype": "text/x-python",
   "name": "python",
   "nbconvert_exporter": "python",
   "pygments_lexer": "ipython3",
   "version": "3.9.16"
  }
 },
 "nbformat": 4,
 "nbformat_minor": 0
}
